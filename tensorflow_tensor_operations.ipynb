{
  "nbformat": 4,
  "nbformat_minor": 0,
  "metadata": {
    "colab": {
      "provenance": [],
      "authorship_tag": "ABX9TyOSudZhX5JCPmgEV+lklbaQ",
      "include_colab_link": true
    },
    "kernelspec": {
      "name": "python3",
      "display_name": "Python 3"
    },
    "language_info": {
      "name": "python"
    }
  },
  "cells": [
    {
      "cell_type": "markdown",
      "metadata": {
        "id": "view-in-github",
        "colab_type": "text"
      },
      "source": [
        "<a href=\"https://colab.research.google.com/github/syedanida/Tensor-Operations/blob/main/tensorflow_tensor_operations.ipynb\" target=\"_parent\"><img src=\"https://colab.research.google.com/assets/colab-badge.svg\" alt=\"Open In Colab\"/></a>"
      ]
    },
    {
      "cell_type": "code",
      "execution_count": 9,
      "metadata": {
        "colab": {
          "base_uri": "https://localhost:8080/"
        },
        "id": "9H8EVy9rfsaU",
        "outputId": "57428441-3bb6-4db7-faea-7ea3d1705229"
      },
      "outputs": [
        {
          "output_type": "stream",
          "name": "stdout",
          "text": [
            "TensorFlow Version: 2.18.0\n"
          ]
        }
      ],
      "source": [
        "import tensorflow as tf\n",
        "import numpy as np\n",
        "\n",
        "# Check TensorFlow version\n",
        "print(\"TensorFlow Version:\", tf.__version__)"
      ]
    },
    {
      "cell_type": "markdown",
      "source": [
        "### 1. Creating Tensors ###"
      ],
      "metadata": {
        "id": "LvMZoBqNf8kH"
      }
    },
    {
      "cell_type": "code",
      "source": [
        "# Constant tensor\n",
        "tensor_const = tf.constant([[1, 2], [3, 4]])\n",
        "print(\"Constant Tensor:\", tensor_const)"
      ],
      "metadata": {
        "colab": {
          "base_uri": "https://localhost:8080/"
        },
        "id": "KfJKNWL3f3Mh",
        "outputId": "6edb24a8-4135-4d44-eeee-cd8df5c38fca"
      },
      "execution_count": 10,
      "outputs": [
        {
          "output_type": "stream",
          "name": "stdout",
          "text": [
            "Constant Tensor: tf.Tensor(\n",
            "[[1 2]\n",
            " [3 4]], shape=(2, 2), dtype=int32)\n"
          ]
        }
      ]
    },
    {
      "cell_type": "code",
      "source": [
        "# Variable tensor\n",
        "tensor_var = tf.Variable([[5.0, 6.0], [7.0, 8.0]])\n",
        "print(\"Variable Tensor:\", tensor_var)"
      ],
      "metadata": {
        "colab": {
          "base_uri": "https://localhost:8080/"
        },
        "id": "OVX-YCXxf9sh",
        "outputId": "a8a9876f-b0fa-4e71-c559-a5e858d296d4"
      },
      "execution_count": 11,
      "outputs": [
        {
          "output_type": "stream",
          "name": "stdout",
          "text": [
            "Variable Tensor: <tf.Variable 'Variable:0' shape=(2, 2) dtype=float32, numpy=\n",
            "array([[5., 6.],\n",
            "       [7., 8.]], dtype=float32)>\n"
          ]
        }
      ]
    },
    {
      "cell_type": "code",
      "source": [
        "# Tensor from NumPy array\n",
        "numpy_array = np.array([[9, 10], [11, 12]])\n",
        "tensor_from_numpy = tf.convert_to_tensor(numpy_array)\n",
        "print(\"Tensor from NumPy:\", tensor_from_numpy)"
      ],
      "metadata": {
        "colab": {
          "base_uri": "https://localhost:8080/"
        },
        "id": "CryAUCXOgHUK",
        "outputId": "01ba1fb9-ba94-4d73-ea6f-6916cd37c389"
      },
      "execution_count": 12,
      "outputs": [
        {
          "output_type": "stream",
          "name": "stdout",
          "text": [
            "Tensor from NumPy: tf.Tensor(\n",
            "[[ 9 10]\n",
            " [11 12]], shape=(2, 2), dtype=int64)\n"
          ]
        }
      ]
    },
    {
      "cell_type": "markdown",
      "source": [
        "### 2. Basic Tensor Operations ###"
      ],
      "metadata": {
        "id": "Pllaj8h2gMLV"
      }
    },
    {
      "cell_type": "code",
      "source": [
        "# Element-wise addition, subtraction, multiplication, division\n",
        "tensor_a = tf.constant([[1, 2], [3, 4]])\n",
        "tensor_b = tf.constant([[5, 6], [7, 8]])\n",
        "print(\"Addition:\", tensor_a + tensor_b)\n",
        "print(\"Multiplication:\", tensor_a * tensor_b)\n",
        "print(\"Matrix Multiplication:\", tf.matmul(tensor_a, tensor_b))"
      ],
      "metadata": {
        "colab": {
          "base_uri": "https://localhost:8080/"
        },
        "id": "vZMFaHqBgKzj",
        "outputId": "039e161d-8bf7-4bd6-e30e-4c190823687e"
      },
      "execution_count": 13,
      "outputs": [
        {
          "output_type": "stream",
          "name": "stdout",
          "text": [
            "Addition: tf.Tensor(\n",
            "[[ 6  8]\n",
            " [10 12]], shape=(2, 2), dtype=int32)\n",
            "Multiplication: tf.Tensor(\n",
            "[[ 5 12]\n",
            " [21 32]], shape=(2, 2), dtype=int32)\n",
            "Matrix Multiplication: tf.Tensor(\n",
            "[[19 22]\n",
            " [43 50]], shape=(2, 2), dtype=int32)\n"
          ]
        }
      ]
    },
    {
      "cell_type": "code",
      "source": [
        "# Transpose\n",
        "print(\"Transpose:\", tf.transpose(tensor_a))"
      ],
      "metadata": {
        "colab": {
          "base_uri": "https://localhost:8080/"
        },
        "id": "h3PRqb9FgM_y",
        "outputId": "37019d29-59cd-4758-d9ea-8ac4b233453c"
      },
      "execution_count": 14,
      "outputs": [
        {
          "output_type": "stream",
          "name": "stdout",
          "text": [
            "Transpose: tf.Tensor(\n",
            "[[1 3]\n",
            " [2 4]], shape=(2, 2), dtype=int32)\n"
          ]
        }
      ]
    },
    {
      "cell_type": "code",
      "source": [
        "# Reshape\n",
        "reshaped_tensor = tf.reshape(tensor_a, (1, 4))\n",
        "print(\"Reshaped Tensor:\", reshaped_tensor)"
      ],
      "metadata": {
        "colab": {
          "base_uri": "https://localhost:8080/"
        },
        "id": "uTRx8CtogM1y",
        "outputId": "317e5180-613c-4b48-9b9d-3f21d75646ad"
      },
      "execution_count": 15,
      "outputs": [
        {
          "output_type": "stream",
          "name": "stdout",
          "text": [
            "Reshaped Tensor: tf.Tensor([[1 2 3 4]], shape=(1, 4), dtype=int32)\n"
          ]
        }
      ]
    },
    {
      "cell_type": "markdown",
      "source": [
        "### 3. Indexing, Slicing, and Reshaping ###"
      ],
      "metadata": {
        "id": "_NrLLaYNgUmb"
      }
    },
    {
      "cell_type": "code",
      "source": [
        "# Slicing\n",
        "tensor_c = tf.constant([[10, 20, 30], [40, 50, 60], [70, 80, 90]])\n",
        "print(\"Original Tensor:\", tensor_c)\n",
        "print(\"First Row:\", tensor_c[0, :])\n",
        "print(\"First Column:\", tensor_c[:, 0])"
      ],
      "metadata": {
        "colab": {
          "base_uri": "https://localhost:8080/"
        },
        "id": "x9DdnFkygU9P",
        "outputId": "9a5d62d8-09b6-4485-bc18-fb1e301c9696"
      },
      "execution_count": 16,
      "outputs": [
        {
          "output_type": "stream",
          "name": "stdout",
          "text": [
            "Original Tensor: tf.Tensor(\n",
            "[[10 20 30]\n",
            " [40 50 60]\n",
            " [70 80 90]], shape=(3, 3), dtype=int32)\n",
            "First Row: tf.Tensor([10 20 30], shape=(3,), dtype=int32)\n",
            "First Column: tf.Tensor([10 40 70], shape=(3,), dtype=int32)\n"
          ]
        }
      ]
    },
    {
      "cell_type": "code",
      "source": [
        "# Expanding and Squeezing Dimensions\n",
        "expanded_tensor = tf.expand_dims(tensor_c, axis=0)  # Adds a batch dimension\n",
        "squeezed_tensor = tf.squeeze(expanded_tensor)  # Removes dimensions of size 1\n",
        "print(\"Expanded Tensor:\", expanded_tensor)\n",
        "print(\"Squeezed Tensor:\", squeezed_tensor)"
      ],
      "metadata": {
        "colab": {
          "base_uri": "https://localhost:8080/"
        },
        "id": "XZkZy38hgabu",
        "outputId": "81fd5b4e-a8d3-47ce-8a21-13e2a7756611"
      },
      "execution_count": 17,
      "outputs": [
        {
          "output_type": "stream",
          "name": "stdout",
          "text": [
            "Expanded Tensor: tf.Tensor(\n",
            "[[[10 20 30]\n",
            "  [40 50 60]\n",
            "  [70 80 90]]], shape=(1, 3, 3), dtype=int32)\n",
            "Squeezed Tensor: tf.Tensor(\n",
            "[[10 20 30]\n",
            " [40 50 60]\n",
            " [70 80 90]], shape=(3, 3), dtype=int32)\n"
          ]
        }
      ]
    },
    {
      "cell_type": "markdown",
      "source": [
        "### 4. Advanced Tensor Operations ###"
      ],
      "metadata": {
        "id": "7J55QDHEgbxg"
      }
    },
    {
      "cell_type": "code",
      "source": [
        "# Broadcasting\n",
        "tensor_d = tf.constant([[1], [2], [3]])  # Shape (3,1)\n",
        "tensor_e = tf.constant([1, 2, 3])  # Shape (3,)\n",
        "broadcasted_sum = tensor_d + tensor_e  # Broadcasting happens here\n",
        "print(\"Broadcasted Sum:\", broadcasted_sum)"
      ],
      "metadata": {
        "colab": {
          "base_uri": "https://localhost:8080/"
        },
        "id": "RRLbTSxggaT1",
        "outputId": "b1f8c5eb-d91b-49b2-da9d-a3491c3668e8"
      },
      "execution_count": 18,
      "outputs": [
        {
          "output_type": "stream",
          "name": "stdout",
          "text": [
            "Broadcasted Sum: tf.Tensor(\n",
            "[[2 3 4]\n",
            " [3 4 5]\n",
            " [4 5 6]], shape=(3, 3), dtype=int32)\n"
          ]
        }
      ]
    },
    {
      "cell_type": "code",
      "source": [
        "# Stacking and Concatenation\n",
        "tensor_f = tf.constant([1, 2, 3])\n",
        "tensor_g = tf.constant([4, 5, 6])\n",
        "stacked_tensor = tf.stack([tensor_f, tensor_g], axis=1)\n",
        "concatenated_tensor = tf.concat([tensor_f, tensor_g], axis=0)\n",
        "print(\"Stacked Tensor:\", stacked_tensor)\n",
        "print(\"Concatenated Tensor:\", concatenated_tensor)"
      ],
      "metadata": {
        "colab": {
          "base_uri": "https://localhost:8080/"
        },
        "id": "B8X759AwgeLr",
        "outputId": "4ed927b5-a13a-4fa6-a109-0fc7064949ae"
      },
      "execution_count": 19,
      "outputs": [
        {
          "output_type": "stream",
          "name": "stdout",
          "text": [
            "Stacked Tensor: tf.Tensor(\n",
            "[[1 4]\n",
            " [2 5]\n",
            " [3 6]], shape=(3, 2), dtype=int32)\n",
            "Concatenated Tensor: tf.Tensor([1 2 3 4 5 6], shape=(6,), dtype=int32)\n"
          ]
        }
      ]
    },
    {
      "cell_type": "markdown",
      "source": [
        "### 5. Einstein Summation (einsum) ###"
      ],
      "metadata": {
        "id": "D8WNZeVvgfnI"
      }
    },
    {
      "cell_type": "code",
      "source": [
        "# Matrix Multiplication using einsum\n",
        "a = tf.constant([[1, 2], [3, 4]])\n",
        "b = tf.constant([[5, 6], [7, 8]])\n",
        "einsum_result = tf.einsum('ij,jk->ik', a, b)\n",
        "print(\"Einsum Matrix Multiplication:\", einsum_result)"
      ],
      "metadata": {
        "colab": {
          "base_uri": "https://localhost:8080/"
        },
        "id": "e_a8Oak9ggzV",
        "outputId": "e4c0fdc3-94ef-4196-e5ff-3e7649f78ada"
      },
      "execution_count": 20,
      "outputs": [
        {
          "output_type": "stream",
          "name": "stdout",
          "text": [
            "Einsum Matrix Multiplication: tf.Tensor(\n",
            "[[19 22]\n",
            " [43 50]], shape=(2, 2), dtype=int32)\n"
          ]
        }
      ]
    },
    {
      "cell_type": "code",
      "source": [
        "# Transpose using einsum\n",
        "transpose_einsum = tf.einsum('ij->ji', a)\n",
        "print(\"Einsum Transpose:\", transpose_einsum)"
      ],
      "metadata": {
        "colab": {
          "base_uri": "https://localhost:8080/"
        },
        "id": "RXk7TYVkgiWL",
        "outputId": "54109518-e3d1-4016-be64-1a21bb1bbb7c"
      },
      "execution_count": 21,
      "outputs": [
        {
          "output_type": "stream",
          "name": "stdout",
          "text": [
            "Einsum Transpose: tf.Tensor(\n",
            "[[1 3]\n",
            " [2 4]], shape=(2, 2), dtype=int32)\n"
          ]
        }
      ]
    },
    {
      "cell_type": "code",
      "source": [
        "# Outer Product using einsum\n",
        "vector_x = tf.constant([1, 2, 3])\n",
        "vector_y = tf.constant([4, 5, 6])\n",
        "outer_product = tf.einsum('i,j->ij', vector_x, vector_y)\n",
        "print(\"Einsum Outer Product:\", outer_product)"
      ],
      "metadata": {
        "colab": {
          "base_uri": "https://localhost:8080/"
        },
        "id": "S4i9LV2-gn9r",
        "outputId": "5125dbcd-5764-4640-e62d-e71fe321dafd"
      },
      "execution_count": 22,
      "outputs": [
        {
          "output_type": "stream",
          "name": "stdout",
          "text": [
            "Einsum Outer Product: tf.Tensor(\n",
            "[[ 4  5  6]\n",
            " [ 8 10 12]\n",
            " [12 15 18]], shape=(3, 3), dtype=int32)\n"
          ]
        }
      ]
    },
    {
      "cell_type": "markdown",
      "source": [
        "### 6. Creative Tensor Operations ###"
      ],
      "metadata": {
        "id": "iRsfvO0pgpJP"
      }
    },
    {
      "cell_type": "code",
      "source": [
        "# Eigendecomposition\n",
        "eigenvalues, eigenvectors = tf.linalg.eig(tf.cast(a, tf.complex64))\n",
        "print(\"Eigenvalues:\", eigenvalues)\n",
        "print(\"Eigenvectors:\", eigenvectors)"
      ],
      "metadata": {
        "colab": {
          "base_uri": "https://localhost:8080/"
        },
        "id": "2QuFEaMQgrHt",
        "outputId": "8ef3a514-845b-4c7f-f676-f0471c5b16da"
      },
      "execution_count": 23,
      "outputs": [
        {
          "output_type": "stream",
          "name": "stdout",
          "text": [
            "Eigenvalues: tf.Tensor([-0.37228122+0.j  5.372281  +0.j], shape=(2,), dtype=complex64)\n",
            "Eigenvectors: tf.Tensor(\n",
            "[[-0.8245648 +0.j -0.41597357+0.j]\n",
            " [ 0.56576747+0.j -0.90937674+0.j]], shape=(2, 2), dtype=complex64)\n"
          ]
        }
      ]
    },
    {
      "cell_type": "code",
      "source": [
        "# Singular Value Decomposition (SVD)\n",
        "svd_result = tf.linalg.svd(tf.cast(a, tf.float32))\n",
        "print(\"SVD Result:\", svd_result)"
      ],
      "metadata": {
        "colab": {
          "base_uri": "https://localhost:8080/"
        },
        "id": "3KXEn9OUgsrb",
        "outputId": "351de79e-2e42-4060-9c80-dfd2f7059816"
      },
      "execution_count": 24,
      "outputs": [
        {
          "output_type": "stream",
          "name": "stdout",
          "text": [
            "SVD Result: (<tf.Tensor: shape=(2,), dtype=float32, numpy=array([5.4649854 , 0.36596614], dtype=float32)>, <tf.Tensor: shape=(2, 2), dtype=float32, numpy=\n",
            "array([[ 0.4045535, -0.9145143],\n",
            "       [ 0.9145143,  0.4045535]], dtype=float32)>, <tf.Tensor: shape=(2, 2), dtype=float32, numpy=\n",
            "array([[ 0.5760484,  0.8174156],\n",
            "       [ 0.8174156, -0.5760484]], dtype=float32)>)\n"
          ]
        }
      ]
    },
    {
      "cell_type": "code",
      "source": [
        "# FFT Transformation\n",
        "fft_tensor = tf.signal.fft(tf.cast([1.0, 2.0, 3.0, 4.0], tf.complex64))\n",
        "print(\"FFT Result:\", fft_tensor)"
      ],
      "metadata": {
        "colab": {
          "base_uri": "https://localhost:8080/"
        },
        "id": "MVYdCCPdgt1D",
        "outputId": "61f731e4-25ca-48e5-a81f-9e371ac73c9e"
      },
      "execution_count": 25,
      "outputs": [
        {
          "output_type": "stream",
          "name": "stdout",
          "text": [
            "FFT Result: tf.Tensor([10.+0.j -2.+2.j -2.+0.j -2.-2.j], shape=(4,), dtype=complex64)\n"
          ]
        }
      ]
    }
  ]
}
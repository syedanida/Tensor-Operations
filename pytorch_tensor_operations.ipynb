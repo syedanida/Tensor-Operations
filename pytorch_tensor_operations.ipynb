{
  "nbformat": 4,
  "nbformat_minor": 0,
  "metadata": {
    "colab": {
      "provenance": [],
      "authorship_tag": "ABX9TyNZmT099B6CRqSZYf89gxqr",
      "include_colab_link": true
    },
    "kernelspec": {
      "name": "python3",
      "display_name": "Python 3"
    },
    "language_info": {
      "name": "python"
    }
  },
  "cells": [
    {
      "cell_type": "markdown",
      "metadata": {
        "id": "view-in-github",
        "colab_type": "text"
      },
      "source": [
        "<a href=\"https://colab.research.google.com/github/syedanida/Tensor-Operations/blob/main/pytorch_tensor_operations.ipynb\" target=\"_parent\"><img src=\"https://colab.research.google.com/assets/colab-badge.svg\" alt=\"Open In Colab\"/></a>"
      ]
    },
    {
      "cell_type": "markdown",
      "source": [
        "### Creating Tensors ###"
      ],
      "metadata": {
        "id": "rEC2j_R7hSet"
      }
    },
    {
      "cell_type": "code",
      "execution_count": 68,
      "metadata": {
        "colab": {
          "base_uri": "https://localhost:8080/"
        },
        "id": "676K1URbg8JH",
        "outputId": "33469ac5-9cad-4032-90c9-8f578b03a637"
      },
      "outputs": [
        {
          "output_type": "stream",
          "name": "stdout",
          "text": [
            "tensor_1:\n",
            " tensor([[1, 2],\n",
            "        [3, 4]])\n",
            "\n",
            "tensor_2 (zeros):\n",
            " tensor([[0., 0.],\n",
            "        [0., 0.]])\n",
            "\n",
            "tensor_3 (ones):\n",
            " tensor([[1., 1.],\n",
            "        [1., 1.]])\n"
          ]
        }
      ],
      "source": [
        "import torch\n",
        "\n",
        "# Creating a tensor with specific values\n",
        "tensor_1 = torch.tensor([[1, 2], [3, 4]])\n",
        "print(\"tensor_1:\\n\", tensor_1)\n",
        "\n",
        "# Creating a tensor of zeros\n",
        "tensor_2 = torch.zeros(2, 2)\n",
        "print(\"\\ntensor_2 (zeros):\\n\", tensor_2)\n",
        "\n",
        "# Creating a tensor of ones\n",
        "tensor_3 = torch.ones(2, 2)\n",
        "print(\"\\ntensor_3 (ones):\\n\", tensor_3)"
      ]
    },
    {
      "cell_type": "markdown",
      "source": [
        "###Checking Tensor Properties###"
      ],
      "metadata": {
        "id": "uAWkegP0hWpC"
      }
    },
    {
      "cell_type": "code",
      "source": [
        "# Checking shape, dtype, and device\n",
        "print(\"\\ntensor_1 shape:\", tensor_1.shape)\n",
        "print(\"tensor_1 dtype:\", tensor_1.dtype)\n",
        "print(\"tensor_1 device:\", tensor_1.device)"
      ],
      "metadata": {
        "colab": {
          "base_uri": "https://localhost:8080/"
        },
        "id": "i-p3acZshRgu",
        "outputId": "4bb8f347-e2a1-4961-98a7-336f9715ef95"
      },
      "execution_count": 69,
      "outputs": [
        {
          "output_type": "stream",
          "name": "stdout",
          "text": [
            "\n",
            "tensor_1 shape: torch.Size([2, 2])\n",
            "tensor_1 dtype: torch.int64\n",
            "tensor_1 device: cpu\n"
          ]
        }
      ]
    },
    {
      "cell_type": "markdown",
      "source": [
        "###Moving Tensors between CPU and GPU###"
      ],
      "metadata": {
        "id": "69L0Eyd0hcwp"
      }
    },
    {
      "cell_type": "code",
      "source": [
        "device = torch.device(\"cuda\" if torch.cuda.is_available() else \"cpu\")\n",
        "tensor_1 = tensor_1.to(device)\n",
        "print(\"\\ntensor_1 after moving to device:\", tensor_1.device)"
      ],
      "metadata": {
        "colab": {
          "base_uri": "https://localhost:8080/"
        },
        "id": "N_JEefCshfIf",
        "outputId": "01870009-79f6-49ba-de77-bee943c94710"
      },
      "execution_count": 70,
      "outputs": [
        {
          "output_type": "stream",
          "name": "stdout",
          "text": [
            "\n",
            "tensor_1 after moving to device: cpu\n"
          ]
        }
      ]
    },
    {
      "cell_type": "markdown",
      "source": [
        "### Element-wise Operations ###"
      ],
      "metadata": {
        "id": "leTd-hkVhgcB"
      }
    },
    {
      "cell_type": "code",
      "source": [
        "# Element-wise addition\n",
        "result_add = tensor_1 + tensor_2\n",
        "print(\"\\nElement-wise addition result:\\n\", result_add)\n",
        "\n",
        "# Element-wise subtraction\n",
        "result_sub = tensor_1 - tensor_2\n",
        "print(\"\\nElement-wise subtraction result:\\n\", result_sub)\n",
        "\n",
        "# Element-wise multiplication\n",
        "result_mul = tensor_1 * tensor_2\n",
        "print(\"\\nElement-wise multiplication result:\\n\", result_mul)\n",
        "\n",
        "# Element-wise division\n",
        "result_div = tensor_1 / tensor_2\n",
        "print(\"\\nElement-wise division result:\\n\", result_div)"
      ],
      "metadata": {
        "colab": {
          "base_uri": "https://localhost:8080/"
        },
        "id": "yxQBxKCshjyI",
        "outputId": "3cf4c71d-3037-4e73-e3ee-961e697dfa42"
      },
      "execution_count": 71,
      "outputs": [
        {
          "output_type": "stream",
          "name": "stdout",
          "text": [
            "\n",
            "Element-wise addition result:\n",
            " tensor([[1., 2.],\n",
            "        [3., 4.]])\n",
            "\n",
            "Element-wise subtraction result:\n",
            " tensor([[1., 2.],\n",
            "        [3., 4.]])\n",
            "\n",
            "Element-wise multiplication result:\n",
            " tensor([[0., 0.],\n",
            "        [0., 0.]])\n",
            "\n",
            "Element-wise division result:\n",
            " tensor([[inf, inf],\n",
            "        [inf, inf]])\n"
          ]
        }
      ]
    },
    {
      "cell_type": "markdown",
      "source": [
        "###Matrix Multiplication###"
      ],
      "metadata": {
        "id": "7rXRAEh1hlEJ"
      }
    },
    {
      "cell_type": "code",
      "source": [
        "# Assuming tensor_1 is the one with the incorrect dtype\n",
        "tensor_1 = tensor_1.type(tensor_2.dtype)\n",
        "\n",
        "# matrix multiplication\n",
        "result_matmul = tensor_1 @ tensor_2\n",
        "print(\"\\nMatrix multiplication (@) result:\\n\", result_matmul)\n",
        "\n",
        "result_mm = torch.matmul(tensor_1, tensor_2)\n",
        "print(\"\\nMatrix multiplication (torch.matmul) result:\\n\", result_mm)"
      ],
      "metadata": {
        "colab": {
          "base_uri": "https://localhost:8080/"
        },
        "id": "sIWjEOVjhm7D",
        "outputId": "a67d59cc-df0a-4200-d346-8d74dd9cca13"
      },
      "execution_count": 72,
      "outputs": [
        {
          "output_type": "stream",
          "name": "stdout",
          "text": [
            "\n",
            "Matrix multiplication (@) result:\n",
            " tensor([[0., 0.],\n",
            "        [0., 0.]])\n",
            "\n",
            "Matrix multiplication (torch.matmul) result:\n",
            " tensor([[0., 0.],\n",
            "        [0., 0.]])\n"
          ]
        }
      ]
    },
    {
      "cell_type": "markdown",
      "source": [
        "###Reductions###"
      ],
      "metadata": {
        "id": "u8x37lgBhoFR"
      }
    },
    {
      "cell_type": "code",
      "source": [
        "# Sum of all elements\n",
        "sum_result = tensor_1.sum()\n",
        "print(\"\\nSum of all elements in tensor_1:\", sum_result)\n",
        "\n",
        "# Mean of all elements\n",
        "mean_result = tensor_1.mean()\n",
        "print(\"Mean of all elements in tensor_1:\", mean_result)\n",
        "\n",
        "# Standard deviation\n",
        "std_result = tensor_1.std()\n",
        "print(\"Standard deviation of tensor_1:\", std_result)\n",
        "\n",
        "# Variance\n",
        "var_result = tensor_1.var()\n",
        "print(\"Variance of tensor_1:\", var_result)"
      ],
      "metadata": {
        "colab": {
          "base_uri": "https://localhost:8080/"
        },
        "id": "ld3Ug7WphqnL",
        "outputId": "9c12aced-8964-44f6-9134-9a684a1a64e3"
      },
      "execution_count": 73,
      "outputs": [
        {
          "output_type": "stream",
          "name": "stdout",
          "text": [
            "\n",
            "Sum of all elements in tensor_1: tensor(10.)\n",
            "Mean of all elements in tensor_1: tensor(2.5000)\n",
            "Standard deviation of tensor_1: tensor(1.2910)\n",
            "Variance of tensor_1: tensor(1.6667)\n"
          ]
        }
      ]
    },
    {
      "cell_type": "markdown",
      "source": [
        "###Slicing###"
      ],
      "metadata": {
        "id": "fQO4Sz6dhr0a"
      }
    },
    {
      "cell_type": "code",
      "source": [
        "slice_result = tensor_1[:, 1:]\n",
        "print(\"\\nSliced tensor (second column to end):\\n\", slice_result)"
      ],
      "metadata": {
        "colab": {
          "base_uri": "https://localhost:8080/"
        },
        "id": "B9FaUVJfhuGC",
        "outputId": "48efa55b-1087-42ef-dce5-0d07a32edc19"
      },
      "execution_count": 74,
      "outputs": [
        {
          "output_type": "stream",
          "name": "stdout",
          "text": [
            "\n",
            "Sliced tensor (second column to end):\n",
            " tensor([[2.],\n",
            "        [4.]])\n"
          ]
        }
      ]
    },
    {
      "cell_type": "markdown",
      "source": [
        "###Reshaping###"
      ],
      "metadata": {
        "id": "BdoLvNxphvMi"
      }
    },
    {
      "cell_type": "code",
      "source": [
        "# Reshaping tensor\n",
        "reshaped_tensor = tensor_1.view(1, 4)\n",
        "print(\"\\nReshaped tensor:\\n\", reshaped_tensor)"
      ],
      "metadata": {
        "colab": {
          "base_uri": "https://localhost:8080/"
        },
        "id": "prYd0-ovhw5b",
        "outputId": "8f223d53-2c17-4900-ccaf-0e30df549745"
      },
      "execution_count": 75,
      "outputs": [
        {
          "output_type": "stream",
          "name": "stdout",
          "text": [
            "\n",
            "Reshaped tensor:\n",
            " tensor([[1., 2., 3., 4.]])\n"
          ]
        }
      ]
    },
    {
      "cell_type": "markdown",
      "source": [
        "###Expanding and Squeezing Dimensions###"
      ],
      "metadata": {
        "id": "sTfSBlGZhyCV"
      }
    },
    {
      "cell_type": "code",
      "source": [
        "# Expanding a tensor's dimensions\n",
        "expanded_tensor = tensor_1.unsqueeze(0)\n",
        "print(\"\\nExpanded tensor:\\n\", expanded_tensor)\n",
        "\n",
        "# Removing a dimension of size 1\n",
        "squeezed_tensor = expanded_tensor.squeeze()\n",
        "print(\"\\nSqueezed tensor:\\n\", squeezed_tensor)"
      ],
      "metadata": {
        "colab": {
          "base_uri": "https://localhost:8080/"
        },
        "id": "JjRVFXuoh0ZK",
        "outputId": "0aabbf0e-572d-4b31-d362-2bf79fe55f65"
      },
      "execution_count": 76,
      "outputs": [
        {
          "output_type": "stream",
          "name": "stdout",
          "text": [
            "\n",
            "Expanded tensor:\n",
            " tensor([[[1., 2.],\n",
            "         [3., 4.]]])\n",
            "\n",
            "Squeezed tensor:\n",
            " tensor([[1., 2.],\n",
            "        [3., 4.]])\n"
          ]
        }
      ]
    },
    {
      "cell_type": "markdown",
      "source": [
        "###Broadcasting in PyTorch###"
      ],
      "metadata": {
        "id": "4sjWdz5bh9F_"
      }
    },
    {
      "cell_type": "code",
      "source": [
        "# Broadcasting example\n",
        "tensor_4 = torch.tensor([1, 2])\n",
        "result_broadcast = tensor_1 + tensor_4\n",
        "print(\"\\nBroadcasting result:\\n\", result_broadcast)"
      ],
      "metadata": {
        "colab": {
          "base_uri": "https://localhost:8080/"
        },
        "id": "nj0EqX36h_Np",
        "outputId": "7beba578-ae02-426c-b099-3311390d20aa"
      },
      "execution_count": 77,
      "outputs": [
        {
          "output_type": "stream",
          "name": "stdout",
          "text": [
            "\n",
            "Broadcasting result:\n",
            " tensor([[2., 4.],\n",
            "        [4., 6.]])\n"
          ]
        }
      ]
    },
    {
      "cell_type": "markdown",
      "source": [
        "###Stacking and Concatenation###"
      ],
      "metadata": {
        "id": "Z8xQMIJJiMDN"
      }
    },
    {
      "cell_type": "code",
      "source": [
        "# Stacking tensors along a new dimension\n",
        "stacked_tensor = torch.stack([tensor_1, tensor_2])\n",
        "print(\"\\nStacked tensors:\\n\", stacked_tensor)\n",
        "\n",
        "# Concatenating tensors along an existing dimension\n",
        "concatenated_tensor = torch.cat([tensor_1, tensor_2], dim=0)\n",
        "print(\"\\nConcatenated tensors along dim 0:\\n\", concatenated_tensor)"
      ],
      "metadata": {
        "colab": {
          "base_uri": "https://localhost:8080/"
        },
        "id": "nlonrGvuiAuV",
        "outputId": "46bde70b-a930-4f0e-fd41-7c21cb27f561"
      },
      "execution_count": 78,
      "outputs": [
        {
          "output_type": "stream",
          "name": "stdout",
          "text": [
            "\n",
            "Stacked tensors:\n",
            " tensor([[[1., 2.],\n",
            "         [3., 4.]],\n",
            "\n",
            "        [[0., 0.],\n",
            "         [0., 0.]]])\n",
            "\n",
            "Concatenated tensors along dim 0:\n",
            " tensor([[1., 2.],\n",
            "        [3., 4.],\n",
            "        [0., 0.],\n",
            "        [0., 0.]])\n"
          ]
        }
      ]
    },
    {
      "cell_type": "markdown",
      "source": [
        "###Tile and Repeat###"
      ],
      "metadata": {
        "id": "qT3gtAiziQMC"
      }
    },
    {
      "cell_type": "code",
      "source": [
        "# Repeating elements of the tensor\n",
        "repeated_tensor = tensor_1.repeat(2, 2)\n",
        "print(\"\\nRepeated tensor:\\n\", repeated_tensor)\n",
        "\n",
        "# Expanding elements of the tensor\n",
        "expanded_tensor = tensor_1.expand(2, 2)\n",
        "print(\"\\nExpanded tensor:\\n\", expanded_tensor)"
      ],
      "metadata": {
        "colab": {
          "base_uri": "https://localhost:8080/"
        },
        "id": "UXwpNgHziSZH",
        "outputId": "eae702e1-b320-49a4-b0fd-617481fbdfc1"
      },
      "execution_count": 79,
      "outputs": [
        {
          "output_type": "stream",
          "name": "stdout",
          "text": [
            "\n",
            "Repeated tensor:\n",
            " tensor([[1., 2., 1., 2.],\n",
            "        [3., 4., 3., 4.],\n",
            "        [1., 2., 1., 2.],\n",
            "        [3., 4., 3., 4.]])\n",
            "\n",
            "Expanded tensor:\n",
            " tensor([[1., 2.],\n",
            "        [3., 4.]])\n"
          ]
        }
      ]
    },
    {
      "cell_type": "markdown",
      "source": [
        "###Einstein Summation###"
      ],
      "metadata": {
        "id": "sVAlEzsOiTgV"
      }
    },
    {
      "cell_type": "code",
      "source": [
        "# Example matrix multiplication\n",
        "einsum_result = torch.einsum('ij,jk->ik', tensor_1, tensor_2)\n",
        "print(\"\\nEinstein Summation (matrix multiplication) result:\\n\", einsum_result)\n",
        "\n",
        "# Transpose with einsum\n",
        "transpose_result = torch.einsum('ij->ji', tensor_1)\n",
        "print(\"\\nTranspose result with einsum:\\n\", transpose_result)\n",
        "\n",
        "# Outer product\n",
        "outer_shape = (tensor_1.shape[0] * tensor_1.shape[1], tensor_2.shape[0] * tensor_2.shape[1])\n",
        "outer_product = torch.einsum('i,j->ij', tensor_1.flatten(), tensor_2.flatten()).reshape(outer_shape)\n",
        "print(\"\\nOuter product result with einsum:\\n\", outer_product)\n",
        "\n",
        "# Summing over axes\n",
        "summed_result = torch.einsum('ij->i', tensor_1)\n",
        "print(\"\\nSumming over axes result:\\n\", summed_result)"
      ],
      "metadata": {
        "colab": {
          "base_uri": "https://localhost:8080/"
        },
        "id": "47qwFTDEiVUm",
        "outputId": "a253ac61-f032-4f94-eb7b-30c8d85614ea"
      },
      "execution_count": 80,
      "outputs": [
        {
          "output_type": "stream",
          "name": "stdout",
          "text": [
            "\n",
            "Einstein Summation (matrix multiplication) result:\n",
            " tensor([[0., 0.],\n",
            "        [0., 0.]])\n",
            "\n",
            "Transpose result with einsum:\n",
            " tensor([[1., 3.],\n",
            "        [2., 4.]])\n",
            "\n",
            "Outer product result with einsum:\n",
            " tensor([[0., 0., 0., 0.],\n",
            "        [0., 0., 0., 0.],\n",
            "        [0., 0., 0., 0.],\n",
            "        [0., 0., 0., 0.]])\n",
            "\n",
            "Summing over axes result:\n",
            " tensor([3., 7.])\n"
          ]
        }
      ]
    },
    {
      "cell_type": "markdown",
      "source": [
        "###Exploring einops in PyTorch###"
      ],
      "metadata": {
        "id": "m7P8Zw2RiW04"
      }
    },
    {
      "cell_type": "code",
      "source": [
        "!pip install --upgrade einops"
      ],
      "metadata": {
        "colab": {
          "base_uri": "https://localhost:8080/"
        },
        "id": "GKYNdLz3kAcH",
        "outputId": "e16fee4e-ee4c-4820-9324-59ba5bc36640"
      },
      "execution_count": 81,
      "outputs": [
        {
          "output_type": "stream",
          "name": "stdout",
          "text": [
            "Requirement already satisfied: einops in /usr/local/lib/python3.11/dist-packages (0.8.1)\n"
          ]
        }
      ]
    },
    {
      "cell_type": "code",
      "source": [
        "# Rearranging tensor with einops\n",
        "rearranged_tensor = einops.rearrange(tensor_1, 'h w -> w h')\n",
        "print(\"\\nRearranged tensor with einops:\\n\", rearranged_tensor)\n",
        "\n",
        "# Expanding dimensions with einops\n",
        "expanded_tensor_einops = einops.repeat(tensor_1, 'h w -> h w 1')\n",
        "print(\"\\nExpanded tensor with einops:\\n\", expanded_tensor_einops)\n",
        "\n",
        "# Reducing tensor with einops (e.g., summing over a dimension)\n",
        "reduced_tensor = einops.reduce(tensor_1, 'h w -> h', reduction='sum')\n",
        "print(\"\\nReduced tensor with einops (sum over dimension h):\\n\", reduced_tensor)\n"
      ],
      "metadata": {
        "colab": {
          "base_uri": "https://localhost:8080/"
        },
        "id": "Ia96fntmiYrY",
        "outputId": "4da84066-41eb-45c9-c90e-236e1146a6ac"
      },
      "execution_count": 82,
      "outputs": [
        {
          "output_type": "stream",
          "name": "stdout",
          "text": [
            "\n",
            "Rearranged tensor with einops:\n",
            " tensor([[1., 3.],\n",
            "        [2., 4.]])\n",
            "\n",
            "Expanded tensor with einops:\n",
            " tensor([[[1.],\n",
            "         [2.]],\n",
            "\n",
            "        [[3.],\n",
            "         [4.]]])\n",
            "\n",
            "Reduced tensor with einops (sum over dimension h):\n",
            " tensor([3., 7.])\n"
          ]
        }
      ]
    },
    {
      "cell_type": "markdown",
      "source": [
        "###Eigendecomposition###"
      ],
      "metadata": {
        "id": "Ij5mL8X4iaA0"
      }
    },
    {
      "cell_type": "code",
      "source": [
        "# Eigendecomposition of a square matrix\n",
        "eigenvalues, eigenvectors = torch.linalg.eig(tensor_1)\n",
        "print(\"\\nEigenvalues:\\n\", eigenvalues)\n",
        "print(\"\\nEigenvectors:\\n\", eigenvectors)"
      ],
      "metadata": {
        "colab": {
          "base_uri": "https://localhost:8080/"
        },
        "id": "8c1MUu1eicI2",
        "outputId": "05956e41-0cdf-4ee3-f736-db5aaf9493a8"
      },
      "execution_count": 83,
      "outputs": [
        {
          "output_type": "stream",
          "name": "stdout",
          "text": [
            "\n",
            "Eigenvalues:\n",
            " tensor([-0.3723+0.j,  5.3723+0.j])\n",
            "\n",
            "Eigenvectors:\n",
            " tensor([[-0.8246+0.j, -0.4160+0.j],\n",
            "        [ 0.5658+0.j, -0.9094+0.j]])\n"
          ]
        }
      ]
    },
    {
      "cell_type": "markdown",
      "source": [
        "###Singular Value Decomposition (SVD)###"
      ],
      "metadata": {
        "id": "dmq5qX7Hid7W"
      }
    },
    {
      "cell_type": "code",
      "source": [
        "# SVD of a matrix\n",
        "U, S, V = torch.svd(tensor_1)\n",
        "print(\"\\nSingular Value Decomposition:\\nU:\\n\", U)\n",
        "print(\"S:\\n\", S)\n",
        "print(\"V:\\n\", V)"
      ],
      "metadata": {
        "colab": {
          "base_uri": "https://localhost:8080/"
        },
        "id": "GKYeRGB2ifuv",
        "outputId": "dcdb6051-6efb-4d9f-de80-632a95ffe333"
      },
      "execution_count": 84,
      "outputs": [
        {
          "output_type": "stream",
          "name": "stdout",
          "text": [
            "\n",
            "Singular Value Decomposition:\n",
            "U:\n",
            " tensor([[-0.4046, -0.9145],\n",
            "        [-0.9145,  0.4046]])\n",
            "S:\n",
            " tensor([5.4650, 0.3660])\n",
            "V:\n",
            " tensor([[-0.5760,  0.8174],\n",
            "        [-0.8174, -0.5760]])\n"
          ]
        }
      ]
    },
    {
      "cell_type": "markdown",
      "source": [
        "###Fast Fourier Transform (FFT)###"
      ],
      "metadata": {
        "id": "PkT_F4ewiiXu"
      }
    },
    {
      "cell_type": "code",
      "source": [
        "# Computing the FFT of a tensor\n",
        "fft_result = torch.fft.fft(tensor_1)\n",
        "print(\"\\nFFT result:\\n\", fft_result)"
      ],
      "metadata": {
        "colab": {
          "base_uri": "https://localhost:8080/"
        },
        "id": "XPt7CSWLjC2V",
        "outputId": "41ca1765-5e47-47da-f6db-1733c6631550"
      },
      "execution_count": 85,
      "outputs": [
        {
          "output_type": "stream",
          "name": "stdout",
          "text": [
            "\n",
            "FFT result:\n",
            " tensor([[ 3.+0.j, -1.+0.j],\n",
            "        [ 7.+0.j, -1.+0.j]])\n"
          ]
        }
      ]
    }
  ]
}